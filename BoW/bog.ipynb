{
 "cells": [
  {
   "cell_type": "code",
   "execution_count": 151,
   "metadata": {},
   "outputs": [],
   "source": [
    "%matplotlib inline\n",
    "import numpy\n",
    "import cv2\n",
    "from matplotlib import pyplot as plt\n",
    "from scipy.cluster.vq import vq, kmeans, whiten\n",
    "import numpy as np\n",
    "import os\n",
    "\n",
    "def generateTrainOrTestData(path):\n",
    "    \n",
    "    bagOfWords = []\n",
    "    categoryList = []\n",
    "\n",
    "    for root, category_dirs, a in os.walk(path):\n",
    "  \n",
    "        for category_dir in category_dirs:\n",
    "            \n",
    "            path_with_category = os.path.join(root,category_dir)\n",
    "            \n",
    "            for _, _, imageNames in os.walk(path_with_category):\n",
    "                \n",
    "                print(\"Extracting features of category: \" + category_dir)\n",
    "                for imageName in imageNames:\n",
    "                    if(imageName != '.DS_Store'):\n",
    "                        pathToImage = os.path.join(path_with_category,imageName)\n",
    " \n",
    "                        img1 = cv2.imread(pathToImage,0)\n",
    "                        \n",
    "                        sift = cv2.xfeatures2d.SIFT_create()\n",
    "                        kp1, des1 = sift.detectAndCompute(img1,None)\n",
    "                        \n",
    "                        bagOfWords = bagOfWords + [des1]\n",
    "                        categoryList = categoryList + [category_dir]\n",
    "                        \n",
    "    return (bagOfWords,categoryList)\n",
    "\n",
    "\n"
   ]
  },
  {
   "cell_type": "code",
   "execution_count": 152,
   "metadata": {},
   "outputs": [
    {
     "name": "stdout",
     "output_type": "stream",
     "text": [
      "Extracting features of train data...\n",
      "Extracting features of category: bedroom\n",
      "Extracting features of category: CALsuburb\n",
      "Extracting features of category: industrial\n",
      "Extracting features of category: kitchen\n",
      "Finish extracting features of train data...\n",
      "Extracting features of test data...\n",
      "Extracting features of category: bedroom\n",
      "Extracting features of category: CALsuburb\n",
      "Extracting features of category: industrial\n",
      "Extracting features of category: kitchen\n",
      "Finish extracting features of test data...\n"
     ]
    }
   ],
   "source": [
    "# Generate Test and Train data\n",
    "\n",
    "trainDataDir = '/Users/dsoellinger/Documents/git/uni/Computer-Vision/EX2/images/train'\n",
    "testDataDir = '/Users/dsoellinger/Documents/git/uni/Computer-Vision/EX2/images/test'\n",
    "\n",
    "print(\"Extracting features of train data...\")\n",
    "trainDataFeatures, trainDataCategories = generateTrainOrTestData(trainDataDir)\n",
    "print(\"Finish extracting features of train data...\")\n",
    "print(\"Extracting features of test data...\")\n",
    "testDataFeatures, testDataCategories = generateTrainOrTestData(testDataDir)\n",
    "print(\"Finish extracting features of test data...\")\n"
   ]
  },
  {
   "cell_type": "code",
   "execution_count": 178,
   "metadata": {},
   "outputs": [
    {
     "name": "stdout",
     "output_type": "stream",
     "text": [
      "KMeans start\n",
      "KMeans done\n"
     ]
    }
   ],
   "source": [
    "def listConversion(features,category):\n",
    "    \n",
    "    convFeatures = []\n",
    "    convCategories = []\n",
    "    for i,feature in enumerate(features):\n",
    "        \n",
    "        for keypoint_des in feature:\n",
    "            convFeatures.append(keypoint_des.tolist())\n",
    "            convCategories.append(category[i])\n",
    "            \n",
    "    return (convFeatures,convCategories)\n",
    "   \n",
    "    \n",
    "X,Y = listConversion(trainDataFeatures,trainDataCategories)\n",
    "\n",
    "print(\"KMeans start\")\n",
    "voc,distortion = kmeans(X,15,10)\n",
    "print(\"KMeans done\")\n"
   ]
  },
  {
   "cell_type": "code",
   "execution_count": 179,
   "metadata": {},
   "outputs": [],
   "source": [
    "from __future__ import division\n",
    "\n",
    "def normalizeHistogram(histogram):\n",
    "\n",
    "    total = sum(histogram)\n",
    "\n",
    "    normalizedHistogram = [x / total for x in histogram]\n",
    "\n",
    "    return normalizedHistogram"
   ]
  },
  {
   "cell_type": "code",
   "execution_count": 180,
   "metadata": {},
   "outputs": [],
   "source": [
    "def computeImageHistogram(code):\n",
    "    \n",
    "    histogram = [0,0,0,0,0,0,0,0,0,0,0,0,0,0,0,0,0,0,0,0]\n",
    "    \n",
    "    for c in code:\n",
    "        histogram[c] += 1\n",
    "        \n",
    "    normalizedHistogram = normalizeHistogram(histogram)\n",
    "    \n",
    "    return normalizedHistogram\n",
    "    "
   ]
  },
  {
   "cell_type": "code",
   "execution_count": 181,
   "metadata": {},
   "outputs": [],
   "source": [
    "# Assignes every feature (X) to one centroid (vocabulary)\n",
    "histograms = []\n",
    "\n",
    "for image in trainDataFeatures:\n",
    "    code, distance = vq(image,voc)\n",
    "    \n",
    "    normalizedHistogram = computeImageHistogram(code)\n",
    "    histograms.append(normalizedHistogram)\n",
    "\n"
   ]
  },
  {
   "cell_type": "code",
   "execution_count": 182,
   "metadata": {},
   "outputs": [
    {
     "name": "stdout",
     "output_type": "stream",
     "text": [
      "SVC fit started\n",
      "SVC fit finished\n"
     ]
    }
   ],
   "source": [
    "from sklearn import svm\n",
    "\n",
    "svc = svm.LinearSVC()\n",
    "\n",
    "print(\"SVC fit started\")\n",
    "svc.fit(histograms,trainDataCategories) \n",
    "print(\"SVC fit finished\")"
   ]
  },
  {
   "cell_type": "code",
   "execution_count": 183,
   "metadata": {},
   "outputs": [
    {
     "name": "stdout",
     "output_type": "stream",
     "text": [
      "Classification Accuracy: 53.7313432836\n"
     ]
    }
   ],
   "source": [
    "correctClassification = 0\n",
    "totalClassification = 0\n",
    "\n",
    "for i,feature in enumerate(testDataFeatures):\n",
    "    code, distance = vq(feature,voc)\n",
    "    normalizedHistogram = computeImageHistogram(code)\n",
    "    \n",
    "    prediction = svc.predict([normalizedHistogram])[0]\n",
    "\n",
    "    if prediction == testDataCategories[i]:\n",
    "        correctClassification += 1\n",
    "    totalClassification += 1\n",
    "    \n",
    "print(\"Classification Accuracy: \" + str(correctClassification/totalClassification*100))"
   ]
  },
  {
   "cell_type": "code",
   "execution_count": null,
   "metadata": {},
   "outputs": [],
   "source": []
  }
 ],
 "metadata": {
  "kernelspec": {
   "display_name": "Python 2",
   "language": "python",
   "name": "python2"
  },
  "language_info": {
   "codemirror_mode": {
    "name": "ipython",
    "version": 2
   },
   "file_extension": ".py",
   "mimetype": "text/x-python",
   "name": "python",
   "nbconvert_exporter": "python",
   "pygments_lexer": "ipython2",
   "version": "2.7.14"
  }
 },
 "nbformat": 4,
 "nbformat_minor": 2
}
